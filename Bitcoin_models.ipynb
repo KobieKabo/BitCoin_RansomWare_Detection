{
 "cells": [
  {
   "cell_type": "markdown",
   "id": "a91b5abd-f6f8-4f80-842a-f8858f66a79d",
   "metadata": {},
   "source": [
    "# BitCoin Ransom Ware Detection: Predictive Modeling"
   ]
  },
  {
   "cell_type": "markdown",
   "id": "11f5224f-2599-480b-9d8d-0f098454875c",
   "metadata": {},
   "source": [
    "### Downloading the dataset & setting CSV"
   ]
  },
  {
   "cell_type": "code",
   "execution_count": 1,
   "id": "7b73ccc3-4363-44e9-b11b-752b4fc1aa28",
   "metadata": {},
   "outputs": [],
   "source": [
    "#!wget https://archive.ics.uci.edu/static/public/526/bitcoinheistransomwareaddressdataset.zip\n",
    "\n",
    "#from zipfile import ZipFile\n",
    "\n",
    "#with ZipFile(\"bitcoinheistransomwareaddressdataset.zip\",'r') as zObject:\n",
    "    #zObject.extractall(path = '')"
   ]
  },
  {
   "cell_type": "markdown",
   "id": "50f72228-36ac-48a6-b299-cd1d98ce049c",
   "metadata": {},
   "source": [
    "# Preliminary Data Analysis"
   ]
  },
  {
   "cell_type": "code",
   "execution_count": 1,
   "id": "b86bd237-bb92-43db-a251-88dbe7e5e9a8",
   "metadata": {},
   "outputs": [
    {
     "name": "stdout",
     "output_type": "stream",
     "text": [
      "(2916697, 10)\n",
      "29166970\n"
     ]
    }
   ],
   "source": [
    "import numpy as np\n",
    "import pandas as pd\n",
    "bit=pd.read_csv('BitcoinHeistData.csv')\n",
    "print(f'{bit.shape}\\n{bit.size}')"
   ]
  },
  {
   "cell_type": "markdown",
   "id": "c7ed82f3-0fab-42dc-b1a6-e1b95629e19b",
   "metadata": {},
   "source": [
    "Loop : intended to count how many transaction i) split their coins; ii) move these coins in the network by using different paths and finally, and iii) merge them in a single address. Coins at this final address can then be sold and converted to fiat currency\n",
    "\n",
    "Weight: quantifies the merge behavior (i.e., the transaction has more input addresses than output addresses), where coins in multiple addresses are each passed through a succession of merging transactions and accumulated in a final address\n",
    "\n",
    "Count: designed to quantify the merging pattern\n",
    "count feature represents information on the number of transactions, whereas the weight feature represents information on the amount (what percent of the transactions output) of transactions.\n",
    "\n",
    "Length: designed to quantify mixing rounds on Bitcoin, where transactions receive and distribute similar amounts of coins in multiple rounds with newly created addresses to hide the coin origin.\n",
    "\n",
    "When compared to non-ransomware addresses, ransomware addresses exhibit more profound right skewness in distributions of feature values."
   ]
  },
  {
   "cell_type": "code",
   "execution_count": 2,
   "id": "f22c6994-664e-46e2-b70c-d3026f2e4538",
   "metadata": {},
   "outputs": [
    {
     "data": {
      "text/html": [
       "<div>\n",
       "<style scoped>\n",
       "    .dataframe tbody tr th:only-of-type {\n",
       "        vertical-align: middle;\n",
       "    }\n",
       "\n",
       "    .dataframe tbody tr th {\n",
       "        vertical-align: top;\n",
       "    }\n",
       "\n",
       "    .dataframe thead th {\n",
       "        text-align: right;\n",
       "    }\n",
       "</style>\n",
       "<table border=\"1\" class=\"dataframe\">\n",
       "  <thead>\n",
       "    <tr style=\"text-align: right;\">\n",
       "      <th></th>\n",
       "      <th>address</th>\n",
       "      <th>year</th>\n",
       "      <th>day</th>\n",
       "      <th>length</th>\n",
       "      <th>weight</th>\n",
       "      <th>count</th>\n",
       "      <th>looped</th>\n",
       "      <th>neighbors</th>\n",
       "      <th>income</th>\n",
       "      <th>label</th>\n",
       "    </tr>\n",
       "  </thead>\n",
       "  <tbody>\n",
       "    <tr>\n",
       "      <th>0</th>\n",
       "      <td>111K8kZAEnJg245r2cM6y9zgJGHZtJPy6</td>\n",
       "      <td>2017</td>\n",
       "      <td>11</td>\n",
       "      <td>18</td>\n",
       "      <td>0.008333</td>\n",
       "      <td>1</td>\n",
       "      <td>0</td>\n",
       "      <td>2</td>\n",
       "      <td>100050000.0</td>\n",
       "      <td>princetonCerber</td>\n",
       "    </tr>\n",
       "    <tr>\n",
       "      <th>1</th>\n",
       "      <td>1123pJv8jzeFQaCV4w644pzQJzVWay2zcA</td>\n",
       "      <td>2016</td>\n",
       "      <td>132</td>\n",
       "      <td>44</td>\n",
       "      <td>0.000244</td>\n",
       "      <td>1</td>\n",
       "      <td>0</td>\n",
       "      <td>1</td>\n",
       "      <td>100000000.0</td>\n",
       "      <td>princetonLocky</td>\n",
       "    </tr>\n",
       "    <tr>\n",
       "      <th>2</th>\n",
       "      <td>112536im7hy6wtKbpH1qYDWtTyMRAcA2p7</td>\n",
       "      <td>2016</td>\n",
       "      <td>246</td>\n",
       "      <td>0</td>\n",
       "      <td>1.000000</td>\n",
       "      <td>1</td>\n",
       "      <td>0</td>\n",
       "      <td>2</td>\n",
       "      <td>200000000.0</td>\n",
       "      <td>princetonCerber</td>\n",
       "    </tr>\n",
       "    <tr>\n",
       "      <th>3</th>\n",
       "      <td>1126eDRw2wqSkWosjTCre8cjjQW8sSeWH7</td>\n",
       "      <td>2016</td>\n",
       "      <td>322</td>\n",
       "      <td>72</td>\n",
       "      <td>0.003906</td>\n",
       "      <td>1</td>\n",
       "      <td>0</td>\n",
       "      <td>2</td>\n",
       "      <td>71200000.0</td>\n",
       "      <td>princetonCerber</td>\n",
       "    </tr>\n",
       "    <tr>\n",
       "      <th>4</th>\n",
       "      <td>1129TSjKtx65E35GiUo4AYVeyo48twbrGX</td>\n",
       "      <td>2016</td>\n",
       "      <td>238</td>\n",
       "      <td>144</td>\n",
       "      <td>0.072848</td>\n",
       "      <td>456</td>\n",
       "      <td>0</td>\n",
       "      <td>1</td>\n",
       "      <td>200000000.0</td>\n",
       "      <td>princetonLocky</td>\n",
       "    </tr>\n",
       "  </tbody>\n",
       "</table>\n",
       "</div>"
      ],
      "text/plain": [
       "                              address  year  day  length    weight  count  \\\n",
       "0   111K8kZAEnJg245r2cM6y9zgJGHZtJPy6  2017   11      18  0.008333      1   \n",
       "1  1123pJv8jzeFQaCV4w644pzQJzVWay2zcA  2016  132      44  0.000244      1   \n",
       "2  112536im7hy6wtKbpH1qYDWtTyMRAcA2p7  2016  246       0  1.000000      1   \n",
       "3  1126eDRw2wqSkWosjTCre8cjjQW8sSeWH7  2016  322      72  0.003906      1   \n",
       "4  1129TSjKtx65E35GiUo4AYVeyo48twbrGX  2016  238     144  0.072848    456   \n",
       "\n",
       "   looped  neighbors       income            label  \n",
       "0       0          2  100050000.0  princetonCerber  \n",
       "1       0          1  100000000.0   princetonLocky  \n",
       "2       0          2  200000000.0  princetonCerber  \n",
       "3       0          2   71200000.0  princetonCerber  \n",
       "4       0          1  200000000.0   princetonLocky  "
      ]
     },
     "execution_count": 2,
     "metadata": {},
     "output_type": "execute_result"
    }
   ],
   "source": [
    "bit.head()"
   ]
  },
  {
   "cell_type": "code",
   "execution_count": 3,
   "id": "60b17dae-69aa-4175-b411-a9f5a27df3bc",
   "metadata": {},
   "outputs": [
    {
     "name": "stdout",
     "output_type": "stream",
     "text": [
      "<class 'pandas.core.frame.DataFrame'>\n",
      "RangeIndex: 2916697 entries, 0 to 2916696\n",
      "Data columns (total 10 columns):\n",
      " #   Column     Dtype  \n",
      "---  ------     -----  \n",
      " 0   address    object \n",
      " 1   year       int64  \n",
      " 2   day        int64  \n",
      " 3   length     int64  \n",
      " 4   weight     float64\n",
      " 5   count      int64  \n",
      " 6   looped     int64  \n",
      " 7   neighbors  int64  \n",
      " 8   income     float64\n",
      " 9   label      object \n",
      "dtypes: float64(2), int64(6), object(2)\n",
      "memory usage: 222.5+ MB\n"
     ]
    }
   ],
   "source": [
    "bit.info()"
   ]
  },
  {
   "cell_type": "code",
   "execution_count": 4,
   "id": "70ffca5e-8c58-4a16-9e1f-ff99db50d861",
   "metadata": {},
   "outputs": [
    {
     "data": {
      "text/plain": [
       "(2916697, 10)"
      ]
     },
     "execution_count": 4,
     "metadata": {},
     "output_type": "execute_result"
    }
   ],
   "source": [
    "bit.shape"
   ]
  },
  {
   "cell_type": "code",
   "execution_count": 5,
   "id": "5fb9badb-e2b1-4f80-876d-30e95eed75aa",
   "metadata": {},
   "outputs": [
    {
     "name": "stdout",
     "output_type": "stream",
     "text": [
      "address: ['111K8kZAEnJg245r2cM6y9zgJGHZtJPy6' '1123pJv8jzeFQaCV4w644pzQJzVWay2zcA'\n",
      " '112536im7hy6wtKbpH1qYDWtTyMRAcA2p7' ...\n",
      " '1P7PputTcVkhXBmXBvSD9MJ3UYPsiou1u2' '15iPUJsRNZQZHmZZVwmQ63srsmughCXV4a'\n",
      " '3LFFBxp15h9KSFtaw55np8eP5fv6kdK17e']\n",
      "\n",
      "year: [2017 2016 2013 2014 2015 2012 2011 2018]\n",
      "\n",
      "day: [ 11 132 246 322 238  96 225 324 298  62 317 247 146   3 158 156 273  56\n",
      " 165 109  79 127  21 250 155  65  81  46 330 256 218  52 289 266 348  89\n",
      "  85  68 316  49  51 336 137  47  88 106 198 321  35 178 279 125  80 120\n",
      "  84 126 103  75 111   2 182 168 163 160 161 162 141 139 135 133 138 136\n",
      " 108  53 223  74 116  32  55 339  57 319 338 269 260 274 285 286  86 280\n",
      " 112 229  83 195  76  72  73  77  71  78 249 236 128 175 356 123 113 337\n",
      " 320 315   7  63 288 208 189 318 124 159  27  60  99  54 145 134 311 226\n",
      " 140 248 284 340 157  44 143  70  67 295 210 333  61 312 261  38  10 291\n",
      "  17 310  26 362 355 363 325  31  14 352 275 360  41 282 349 345 335 263\n",
      " 326  40 314 331 276 332 309   8  12 358 313  39 297 287 259 257 364  28\n",
      "  22 323  30 300 271  45 353 296   5 341 350 357 328  23   4 307   6   9\n",
      " 334  92 290 176 258 190 209 181 252 254 205 188 303  87  66  69  48  24\n",
      " 308 265 267 305 216 173  95 213 131 264 294 233 212 277 231 327 177 191\n",
      " 102 169  90 183 101 197 115  91 104 118 167 149 100 217 224 144 211  34\n",
      " 179 302 351  82 222 166 270 268 151 147 235 172 255 114 202 207  58 150\n",
      "  37 344 196 293 329 119 292 187 164 152 192 105 281 304 174 244  98 117\n",
      " 220 130 153  36 203  97 206 185 142 122  33 110 243 194 186 240 237 232\n",
      " 184 171 148  64  94 306 301  93 121 299 239  20 154 170 272 241 283 347\n",
      " 107 278  50 193 201 343 221  13 253 359 214 346  25 215  29 228  43 180\n",
      " 342 204 251 234 242 230 227  59 245 262  18 361 199  19 200 354   1 219\n",
      " 129  42  15  16 365]\n",
      "\n",
      "length: [ 18  44   0  72 144 142  78 112   4  56   8  10   2   6  14  12  20  42\n",
      "  24  50  26  82 130  80  74 132  40 136  38  36 122  22  90 108  94  16\n",
      "  98 140 124  48 116  46  70 128 104  30 120  34 138  62  66  84  28  64\n",
      " 114  52  54  92 106 100  32 118  68  86  96  60 126  88  76  58 134 102\n",
      " 110]\n",
      "\n",
      "weight: [8.33333333e-03 2.44140625e-04 1.00000000e+00 ... 1.10073700e-02\n",
      " 2.17450929e-01 5.76358674e+00]\n",
      "\n",
      "count: [    1   456  2821 ... 12129 12238  8842]\n",
      "\n",
      "looped: [    0     1  3283 ... 11938  7168  8173]\n",
      "\n",
      "neighbors: [    2     1     4     6     5     3     7    10     8    11     9    17\n",
      "    12    14    35    22    21    26    16    31    28    23    13    27\n",
      "    25    37    15    43    18    38    24    20    19    50    79    47\n",
      "    36    39    33    58    63    32    69    42    44    29    34    30\n",
      "    49    64    94    59    45    41    52    56   146   144    40    54\n",
      "    55    81    74    60    76    82    68    77    57    53    62    65\n",
      "    51   100    70    48   327   104    91    84    90    75   525    80\n",
      "    67   116    46    72    61    66   130  1068  1559    83    87  1463\n",
      "  1552  1422  1372    98  1536  1770  1603  1728  1581    96  1565  1438\n",
      "   103  1518  1586  1529   122   106    78  1553    73  1287  1593  1396\n",
      "  1311  1264  1319    88   108  1406   158   191   152   193    99   281\n",
      "   420   277  1426   214   286   189   197   212   211   174   200   226\n",
      "   329   350   337  1230   370   603   528   447   507   479   402   478\n",
      "   405   423   112   475   477   485  1262   371   352   468   151   483\n",
      "   482   530   101   494   317   414   844   410   449   314   721   533\n",
      "    85   471   128   118   629  1002   632   556   622   673   641   201\n",
      "   199   177  1203   522   481   510   299   575   535   541   384   506\n",
      "   690   263   656  1046  1006   228   817   727   633   669   602   505\n",
      "   110   216   685   550   382   302   346   713   246   255   267   323\n",
      "   714   259   249   906   347   472   365   341   606   264   266   251\n",
      "   119   141    97   140   134   105   143   223   202   218   160   204\n",
      "   219   196  1290   195   238   162   276   184   153   180   250   349\n",
      "   148   185   167   171   230   271   239   292   235   268   172   176\n",
      "   155   313   275   285   392   364   343    89   417   372   411   399\n",
      "   356   351   354   338   395   368   333   439   419   375   198   188\n",
      "  2111   378   363  1924   974   324   190   240   490   380   440  1774\n",
      "   320   290   457   433   450   524   342   186   403   305   291   257\n",
      "   295  1149   265   247   280    93   416   387   308   270   298   135\n",
      "   319   109   159   326   150   120   156   496   227   422   723   169\n",
      "   759   451   339   297   728  1303  3776   394   444   464   480  1470\n",
      "   252   220   868   431  1445   984   293   301   127   334   322   391\n",
      "   274   289   316   306   348   321   312   582   113   269   139   309\n",
      "    71   206   746   340   111   446    86   517   474   147   445   564\n",
      "   114   456   360  1543    95   344   467   393   173   762   272   518\n",
      "   123   425   441   273  1402   367   187   580   278   245   237   124\n",
      "   332   310   256   502   154   164   137   311   117   233  2012   236\n",
      "   221   973   261   777   161   258   126   203   664   207   209   178\n",
      "   613   470   453   554   102   442   254   213   288   377   526  1324\n",
      "   328  1576   994   208   168   287   279   300   570   617   626   374\n",
      "   361   381   232   222   210   157   248   434   546  1542  1270   366\n",
      "   400   396   427   390  1785   536  1392   304   389   491   466   487\n",
      "   244   435   408   597   610   573   509  1003   513   636   229   129\n",
      "   383   241   175   192   407   730   733   412   452   488   429   459\n",
      "   895   903   489   537   458   542   596   486   166  1288   662   583\n",
      "   504   437   687   778   567   401   385   476   981   599   549   590\n",
      "   415   362   398   182   836   404   724   587   591   592   872   355\n",
      "   386   676   624   555   699   586  1156   163   514   497   694   388\n",
      "   720   715   770   771  1047  1292   966   615   142   693   543   749\n",
      "  1378   696   833   572   736   523   719   755   704  1071   705  2502\n",
      "   625   661   939  1512  1061   853   700   121   905   330   799   873\n",
      "   734   810   722   133   283   910   739   837   681  1022   896  2089\n",
      "   839   901   231   804   818   754  1119  1180  1163   779   938  1121\n",
      "   642   692   165   772    92   851   260   657   438   547   865   559\n",
      "   205   516   373   225   635   418   463   527   379   359  1343   460\n",
      "   115  2154   424   776  2494   750   992   647   593   616   672   808\n",
      "   601   132   561   376   653   640   820   630   436   511   684   679\n",
      "   598   595   790   562  1001   512   551  1451   136   170   145   215\n",
      "   234   181   318   315   594   253   335   194   125   455   369   217\n",
      "  1308  1231   179  1721   850   131   284   331   824   589  1094   224\n",
      "   358   345   609   336   107  3080  1194   243   965   866   826   659\n",
      "   614  1078   149  1809   532   785  1488   303   857   282   996   707\n",
      "   492  1034   579  1830   648   828   138   668  1703  1301   876   812\n",
      "   813  1643  2063   854  1139   600  1236   552   877  1010  1153   919\n",
      "  1120   569  1232   469   604  1005   712   540  3541   409  3575   665\n",
      "  1293   307  1196  1253  1655  1389   688  1143   835   498   769   634\n",
      "  2475  1656  1360   495  1027  1192  2264   578   761   619   565   963\n",
      "  7589  1190  1233   242   652   819  1596  2301   262 11746  1549   294\n",
      "   430   620   968 12920   914   671  1260   881   539   930]\n",
      "\n",
      "income: [1.00050000e+08 1.00000000e+08 2.00000000e+08 ... 4.40969910e+07\n",
      " 2.39826729e+09 1.78042670e+08]\n",
      "\n",
      "label: ['princetonCerber' 'princetonLocky' 'montrealCryptoLocker'\n",
      " 'montrealCryptXXX' 'paduaCryptoWall' 'montrealWannaCry'\n",
      " 'montrealDMALockerv3' 'montrealCryptoTorLocker2015' 'montrealSamSam'\n",
      " 'montrealFlyper' 'montrealNoobCrypt' 'montrealDMALocker' 'montrealGlobe'\n",
      " 'montrealEDA2' 'paduaKeRanger' 'montrealVenusLocker' 'montrealXTPLocker'\n",
      " 'paduaJigsaw' 'montrealGlobev3' 'montrealJigSaw' 'montrealXLockerv5.0'\n",
      " 'montrealXLocker' 'montrealRazy' 'montrealCryptConsole'\n",
      " 'montrealGlobeImposter' 'montrealSam' 'montrealComradeCircle'\n",
      " 'montrealAPT' 'white']\n",
      "\n"
     ]
    }
   ],
   "source": [
    "# Indentifies all the unique values within our columns\n",
    "for col in bit:\n",
    "    print(f'{col}: {bit[col].unique()}\\n')"
   ]
  },
  {
   "cell_type": "markdown",
   "id": "0cc69c0d-a697-4682-be04-2cfd7ff5f9d5",
   "metadata": {},
   "source": [
    "## Data Tidying & Recatorgization"
   ]
  },
  {
   "cell_type": "code",
   "execution_count": 6,
   "id": "198e586d-15d9-46bb-84d7-5f1f4831aef0",
   "metadata": {},
   "outputs": [],
   "source": [
    "# Creates month variable to identify when these transactions occur\n",
    "bit['month'] = pd.to_datetime(bit['day'], format = '%j').dt.month_name()\n",
    "bit['month'] = bit['month'].astype('category')\n",
    "\n",
    "# Changes year variable to a categorical one\n",
    "bit['year'] = bit['year'].astype('category')\n",
    "\n",
    "# Drops the Day variable, as we now have a month variable which is better suited for our needs\n",
    "bit.drop('day', axis = 1, inplace = True)\n",
    "\n",
    "# Groups all the ransomware labels under one group\n",
    "bit.loc[bit['label'] != 'white', 'label'] = 'ransom'\n",
    "\n",
    "# Drops address variable, as it provides nothing\n",
    "bit.drop('address', axis=1, inplace=True)\n",
    "\n",
    "# Regroups the label datatype as a category rather than an object\n",
    "bit['label'] = bit['label'].astype('category')\n",
    "\n",
    "# Changes the income variable from Satoshi currency to Bitcoin Currency\n",
    "# Where 1 BitCoin = 100 million Satoshi's\n",
    "bit['income'] = bit['income'] / 10**8"
   ]
  },
  {
   "cell_type": "markdown",
   "id": "a6b549cf-4048-4af4-88d3-48e4b43a7250",
   "metadata": {},
   "source": [
    "## Performing One-Hot Encoding On Categorical Variables"
   ]
  },
  {
   "cell_type": "code",
   "execution_count": 7,
   "id": "06131552-fd0d-4619-a07e-6f346d547b8f",
   "metadata": {},
   "outputs": [],
   "source": [
    "bit = pd.get_dummies(bit, columns=[\"label\",\"year\",\"month\"], drop_first=True)"
   ]
  },
  {
   "cell_type": "code",
   "execution_count": 8,
   "id": "9f23e835-1d04-4f0a-a1c0-20a2013dd765",
   "metadata": {},
   "outputs": [
    {
     "name": "stdout",
     "output_type": "stream",
     "text": [
      "Duplicated Count for Dataset:\n",
      "158508\n"
     ]
    }
   ],
   "source": [
    "print('Duplicated Count for Dataset:')\n",
    "print(bit.duplicated().sum())\n",
    "bit.drop_duplicates(inplace=True, ignore_index=True)"
   ]
  },
  {
   "cell_type": "code",
   "execution_count": 9,
   "id": "f09ecd04-b814-4068-8857-080f93a5332b",
   "metadata": {},
   "outputs": [
    {
     "name": "stdout",
     "output_type": "stream",
     "text": [
      "<class 'pandas.core.frame.DataFrame'>\n",
      "RangeIndex: 2758189 entries, 0 to 2758188\n",
      "Data columns (total 25 columns):\n",
      " #   Column           Dtype  \n",
      "---  ------           -----  \n",
      " 0   length           int64  \n",
      " 1   weight           float64\n",
      " 2   count            int64  \n",
      " 3   looped           int64  \n",
      " 4   neighbors        int64  \n",
      " 5   income           float64\n",
      " 6   label_white      bool   \n",
      " 7   year_2012        bool   \n",
      " 8   year_2013        bool   \n",
      " 9   year_2014        bool   \n",
      " 10  year_2015        bool   \n",
      " 11  year_2016        bool   \n",
      " 12  year_2017        bool   \n",
      " 13  year_2018        bool   \n",
      " 14  month_August     bool   \n",
      " 15  month_December   bool   \n",
      " 16  month_February   bool   \n",
      " 17  month_January    bool   \n",
      " 18  month_July       bool   \n",
      " 19  month_June       bool   \n",
      " 20  month_March      bool   \n",
      " 21  month_May        bool   \n",
      " 22  month_November   bool   \n",
      " 23  month_October    bool   \n",
      " 24  month_September  bool   \n",
      "dtypes: bool(19), float64(2), int64(4)\n",
      "memory usage: 176.2 MB\n",
      "\n",
      "Null Count for Dataset:\n",
      "length             0\n",
      "weight             0\n",
      "count              0\n",
      "looped             0\n",
      "neighbors          0\n",
      "income             0\n",
      "label_white        0\n",
      "year_2012          0\n",
      "year_2013          0\n",
      "year_2014          0\n",
      "year_2015          0\n",
      "year_2016          0\n",
      "year_2017          0\n",
      "year_2018          0\n",
      "month_August       0\n",
      "month_December     0\n",
      "month_February     0\n",
      "month_January      0\n",
      "month_July         0\n",
      "month_June         0\n",
      "month_March        0\n",
      "month_May          0\n",
      "month_November     0\n",
      "month_October      0\n",
      "month_September    0\n",
      "dtype: int64\n",
      "\n",
      "Duplicated Count for Dataset:\n",
      "0\n"
     ]
    }
   ],
   "source": [
    "bit.info()\n",
    "print('\\nNull Count for Dataset:')\n",
    "print(bit.isnull().sum())\n",
    "print('\\nDuplicated Count for Dataset:')\n",
    "print(bit.duplicated().sum())"
   ]
  },
  {
   "cell_type": "code",
   "execution_count": 10,
   "id": "951eadc1-4708-403a-8ae0-14c7171a4b2d",
   "metadata": {},
   "outputs": [
    {
     "data": {
      "text/html": [
       "<div>\n",
       "<style scoped>\n",
       "    .dataframe tbody tr th:only-of-type {\n",
       "        vertical-align: middle;\n",
       "    }\n",
       "\n",
       "    .dataframe tbody tr th {\n",
       "        vertical-align: top;\n",
       "    }\n",
       "\n",
       "    .dataframe thead th {\n",
       "        text-align: right;\n",
       "    }\n",
       "</style>\n",
       "<table border=\"1\" class=\"dataframe\">\n",
       "  <thead>\n",
       "    <tr style=\"text-align: right;\">\n",
       "      <th></th>\n",
       "      <th>length</th>\n",
       "      <th>weight</th>\n",
       "      <th>count</th>\n",
       "      <th>looped</th>\n",
       "      <th>neighbors</th>\n",
       "      <th>income</th>\n",
       "      <th>label_white</th>\n",
       "      <th>year_2012</th>\n",
       "      <th>year_2013</th>\n",
       "      <th>year_2014</th>\n",
       "      <th>...</th>\n",
       "      <th>month_December</th>\n",
       "      <th>month_February</th>\n",
       "      <th>month_January</th>\n",
       "      <th>month_July</th>\n",
       "      <th>month_June</th>\n",
       "      <th>month_March</th>\n",
       "      <th>month_May</th>\n",
       "      <th>month_November</th>\n",
       "      <th>month_October</th>\n",
       "      <th>month_September</th>\n",
       "    </tr>\n",
       "  </thead>\n",
       "  <tbody>\n",
       "    <tr>\n",
       "      <th>0</th>\n",
       "      <td>18</td>\n",
       "      <td>0.008333</td>\n",
       "      <td>1</td>\n",
       "      <td>0</td>\n",
       "      <td>2</td>\n",
       "      <td>1.0005</td>\n",
       "      <td>False</td>\n",
       "      <td>False</td>\n",
       "      <td>False</td>\n",
       "      <td>False</td>\n",
       "      <td>...</td>\n",
       "      <td>False</td>\n",
       "      <td>False</td>\n",
       "      <td>True</td>\n",
       "      <td>False</td>\n",
       "      <td>False</td>\n",
       "      <td>False</td>\n",
       "      <td>False</td>\n",
       "      <td>False</td>\n",
       "      <td>False</td>\n",
       "      <td>False</td>\n",
       "    </tr>\n",
       "    <tr>\n",
       "      <th>1</th>\n",
       "      <td>44</td>\n",
       "      <td>0.000244</td>\n",
       "      <td>1</td>\n",
       "      <td>0</td>\n",
       "      <td>1</td>\n",
       "      <td>1.0000</td>\n",
       "      <td>False</td>\n",
       "      <td>False</td>\n",
       "      <td>False</td>\n",
       "      <td>False</td>\n",
       "      <td>...</td>\n",
       "      <td>False</td>\n",
       "      <td>False</td>\n",
       "      <td>False</td>\n",
       "      <td>False</td>\n",
       "      <td>False</td>\n",
       "      <td>False</td>\n",
       "      <td>True</td>\n",
       "      <td>False</td>\n",
       "      <td>False</td>\n",
       "      <td>False</td>\n",
       "    </tr>\n",
       "    <tr>\n",
       "      <th>2</th>\n",
       "      <td>0</td>\n",
       "      <td>1.000000</td>\n",
       "      <td>1</td>\n",
       "      <td>0</td>\n",
       "      <td>2</td>\n",
       "      <td>2.0000</td>\n",
       "      <td>False</td>\n",
       "      <td>False</td>\n",
       "      <td>False</td>\n",
       "      <td>False</td>\n",
       "      <td>...</td>\n",
       "      <td>False</td>\n",
       "      <td>False</td>\n",
       "      <td>False</td>\n",
       "      <td>False</td>\n",
       "      <td>False</td>\n",
       "      <td>False</td>\n",
       "      <td>False</td>\n",
       "      <td>False</td>\n",
       "      <td>False</td>\n",
       "      <td>True</td>\n",
       "    </tr>\n",
       "    <tr>\n",
       "      <th>3</th>\n",
       "      <td>72</td>\n",
       "      <td>0.003906</td>\n",
       "      <td>1</td>\n",
       "      <td>0</td>\n",
       "      <td>2</td>\n",
       "      <td>0.7120</td>\n",
       "      <td>False</td>\n",
       "      <td>False</td>\n",
       "      <td>False</td>\n",
       "      <td>False</td>\n",
       "      <td>...</td>\n",
       "      <td>False</td>\n",
       "      <td>False</td>\n",
       "      <td>False</td>\n",
       "      <td>False</td>\n",
       "      <td>False</td>\n",
       "      <td>False</td>\n",
       "      <td>False</td>\n",
       "      <td>True</td>\n",
       "      <td>False</td>\n",
       "      <td>False</td>\n",
       "    </tr>\n",
       "    <tr>\n",
       "      <th>4</th>\n",
       "      <td>144</td>\n",
       "      <td>0.072848</td>\n",
       "      <td>456</td>\n",
       "      <td>0</td>\n",
       "      <td>1</td>\n",
       "      <td>2.0000</td>\n",
       "      <td>False</td>\n",
       "      <td>False</td>\n",
       "      <td>False</td>\n",
       "      <td>False</td>\n",
       "      <td>...</td>\n",
       "      <td>False</td>\n",
       "      <td>False</td>\n",
       "      <td>False</td>\n",
       "      <td>False</td>\n",
       "      <td>False</td>\n",
       "      <td>False</td>\n",
       "      <td>False</td>\n",
       "      <td>False</td>\n",
       "      <td>False</td>\n",
       "      <td>False</td>\n",
       "    </tr>\n",
       "  </tbody>\n",
       "</table>\n",
       "<p>5 rows × 25 columns</p>\n",
       "</div>"
      ],
      "text/plain": [
       "   length    weight  count  looped  neighbors  income  label_white  year_2012  \\\n",
       "0      18  0.008333      1       0          2  1.0005        False      False   \n",
       "1      44  0.000244      1       0          1  1.0000        False      False   \n",
       "2       0  1.000000      1       0          2  2.0000        False      False   \n",
       "3      72  0.003906      1       0          2  0.7120        False      False   \n",
       "4     144  0.072848    456       0          1  2.0000        False      False   \n",
       "\n",
       "   year_2013  year_2014  ...  month_December  month_February  month_January  \\\n",
       "0      False      False  ...           False           False           True   \n",
       "1      False      False  ...           False           False          False   \n",
       "2      False      False  ...           False           False          False   \n",
       "3      False      False  ...           False           False          False   \n",
       "4      False      False  ...           False           False          False   \n",
       "\n",
       "   month_July  month_June  month_March  month_May  month_November  \\\n",
       "0       False       False        False      False           False   \n",
       "1       False       False        False       True           False   \n",
       "2       False       False        False      False           False   \n",
       "3       False       False        False      False            True   \n",
       "4       False       False        False      False           False   \n",
       "\n",
       "   month_October  month_September  \n",
       "0          False            False  \n",
       "1          False            False  \n",
       "2          False             True  \n",
       "3          False            False  \n",
       "4          False            False  \n",
       "\n",
       "[5 rows x 25 columns]"
      ]
     },
     "execution_count": 10,
     "metadata": {},
     "output_type": "execute_result"
    }
   ],
   "source": [
    "bit.head()"
   ]
  },
  {
   "cell_type": "raw",
   "id": "6bdf4fe9-dcdc-420d-9ff7-3bd18756d1c7",
   "metadata": {},
   "source": [
    "# Set the aesthetic style of the plots\n",
    "sns.set_style(\"whitegrid\")\n",
    "\n",
    "# Adjusting the subplot layout to accommodate the updated number of variables\n",
    "fig, ax = plt.subplots(4, 3, figsize=(20, 15))  # Adjusted to 4x3 to fit the additional plot\n",
    "\n",
    "\n",
    "categorical_columns = ['Recurrence', 'age', 'menopause', 'tumor-size', 'inv-nodes', 'node-caps',\n",
    "       'deg-malig', 'breast', 'breast-quad','Irradiated']\n",
    "for i, column in enumerate(categorical_columns, start=0):  # Start from the third plot\n",
    "    sns.histplot(data[column], bins=3, ax=ax[i//3, i%3], kde=False, orientation='vertical')\n",
    "    ax[i//3, i%3].set_title(f'Distribution of {column}')\n",
    "\n",
    "\n",
    "plt.tight_layout()\n",
    "plt.show()"
   ]
  },
  {
   "cell_type": "markdown",
   "id": "000907d5-0b71-480a-91a2-c7d9ea3d6aa7",
   "metadata": {},
   "source": [
    "## Data Visualization"
   ]
  },
  {
   "cell_type": "code",
   "execution_count": 11,
   "id": "18164d12-e7ba-4b05-85f4-6e9dce0c6a9f",
   "metadata": {},
   "outputs": [
    {
     "data": {
      "text/plain": [
       "Text(0.5, 0, 'length')"
      ]
     },
     "execution_count": 11,
     "metadata": {},
     "output_type": "execute_result"
    },
    {
     "data": {
      "image/png": "[encoded data removed]",
      "text/plain": [
       "<Figure size 640x480 with 1 Axes>"
      ]
     },
     "metadata": {},
     "output_type": "display_data"
    }
   ],
   "source": [
    "import seaborn as sns\n",
    "import matplotlib.pyplot as plt\n",
    "sns.histplot(bit['length'], kde=False)\n",
    "plt.title(\"Plot of length of Bitcoin\")\n",
    "plt.xlabel(\"length\")"
   ]
  },
  {
   "cell_type": "markdown",
   "id": "318c38cb-895a-475b-a8c6-50f5f96279df",
   "metadata": {},
   "source": [
    "sns.histplot(bit['weight'],bins=10, kde=False)\n",
    "plt.title(\"Plot of weight of Bitcoin\")\n",
    "plt.xlabel(\"weight\")"
   ]
  },
  {
   "cell_type": "code",
   "execution_count": 12,
   "id": "5ef3c785-4379-4da0-a2ee-7cf2fbd1c7c5",
   "metadata": {},
   "outputs": [],
   "source": [
    "from sklearn.model_selection import train_test_split\n",
    "\n",
    "X = bit.drop('label_white', axis=1)\n",
    "y = bit['label_white']\n",
    "\n",
    "X_train, X_test, y_train, y_test = train_test_split(X, y, test_size=0.3, random_state=1)"
   ]
  },
  {
   "cell_type": "code",
   "execution_count": 13,
   "id": "7aeeb7b2-8930-4001-a934-832ab807bab9",
   "metadata": {},
   "outputs": [
    {
     "data": {
      "text/plain": [
       "(1930732, 24)"
      ]
     },
     "execution_count": 13,
     "metadata": {},
     "output_type": "execute_result"
    }
   ],
   "source": [
    "X_train.shape"
   ]
  },
  {
   "cell_type": "code",
   "execution_count": 14,
   "id": "b22f8d1e-eb00-42d4-bce1-d0dbaf841fb1",
   "metadata": {},
   "outputs": [
    {
     "data": {
      "text/plain": [
       "(827457, 24)"
      ]
     },
     "execution_count": 14,
     "metadata": {},
     "output_type": "execute_result"
    }
   ],
   "source": [
    "X_test.shape"
   ]
  },
  {
   "cell_type": "markdown",
   "id": "08503a41-feb6-4511-8de9-08fea33dc832",
   "metadata": {},
   "source": [
    "# Classical Models"
   ]
  },
  {
   "cell_type": "markdown",
   "id": "d3765122-9017-42f1-91fa-8078e3b87ee4",
   "metadata": {},
   "source": [
    "## Decision Trees"
   ]
  },
  {
   "cell_type": "code",
   "execution_count": 17,
   "id": "4f850232-13a1-45b9-9f40-9a5cb75cfd70",
   "metadata": {},
   "outputs": [
    {
     "name": "stdout",
     "output_type": "stream",
     "text": [
      "Performance on TEST\n",
      "*******************\n",
      "              precision    recall  f1-score   support\n",
      "\n",
      "       False       0.31      0.35      0.33     10695\n",
      "        True       0.99      0.99      0.99    816762\n",
      "\n",
      "    accuracy                           0.98    827457\n",
      "   macro avg       0.65      0.67      0.66    827457\n",
      "weighted avg       0.98      0.98      0.98    827457\n",
      "\n",
      "Performance on TRAIN\n",
      "********************\n",
      "              precision    recall  f1-score   support\n",
      "\n",
      "       False       0.96      1.00      0.98     25068\n",
      "        True       1.00      1.00      1.00   1905664\n",
      "\n",
      "    accuracy                           1.00   1930732\n",
      "   macro avg       0.98      1.00      0.99   1930732\n",
      "weighted avg       1.00      1.00      1.00   1930732\n",
      "\n"
     ]
    }
   ],
   "source": [
    "from sklearn.tree import DecisionTreeClassifier\n",
    "model_dt = DecisionTreeClassifier(random_state=1).fit(X_train, y_train)\n",
    "from sklearn.metrics import classification_report\n",
    "print(f\"Performance on TEST\\n*******************\\n{classification_report(y_test, model_dt.predict(X_test))}\")\n",
    "print(f\"Performance on TRAIN\\n********************\\n{classification_report(y_train, model_dt.predict(X_train))}\")\n"
   ]
  },
  {
   "cell_type": "code",
   "execution_count": 18,
   "id": "f4f1bcea-0860-4ffd-a3c2-12612c2d1ed9",
   "metadata": {},
   "outputs": [
    {
     "data": {
      "image/png": "[encoded data removed]",
      "text/plain": [
       "<Figure size 640x480 with 2 Axes>"
      ]
     },
     "metadata": {},
     "output_type": "display_data"
    }
   ],
   "source": [
    "from sklearn.metrics import ConfusionMatrixDisplay\n",
    "cm_display = ConfusionMatrixDisplay.from_estimator(model_dt, X_test, y_test,cmap=plt.cm.Blues,normalize=None)"
   ]
  },
  {
   "cell_type": "markdown",
   "id": "1df18f97-389f-46e7-8eb7-2efabbc670b1",
   "metadata": {},
   "source": [
    "## Logistic Regression"
   ]
  },
  {
   "cell_type": "code",
   "execution_count": 29,
   "id": "f11f1a9e-d9c0-43b1-9e05-6afdf2b1a8a7",
   "metadata": {},
   "outputs": [
    {
     "name": "stderr",
     "output_type": "stream",
     "text": [
      "/usr/local/lib/python3.11/site-packages/sklearn/linear_model/_sag.py:350: ConvergenceWarning: The max_iter was reached which means the coef_ did not converge\n",
      "  warnings.warn(\n"
     ]
    },
    {
     "name": "stdout",
     "output_type": "stream",
     "text": [
      "Performance on TEST\n",
      "*******************\n",
      "              precision    recall  f1-score   support\n",
      "\n",
      "       False       0.00      0.00      0.00     10695\n",
      "        True       0.99      1.00      0.99    816762\n",
      "\n",
      "    accuracy                           0.99    827457\n",
      "   macro avg       0.49      0.50      0.50    827457\n",
      "weighted avg       0.97      0.99      0.98    827457\n",
      "\n",
      "Performance on TRAIN\n",
      "********************\n",
      "              precision    recall  f1-score   support\n",
      "\n",
      "       False       0.00      0.00      0.00     25068\n",
      "        True       0.99      1.00      0.99   1905664\n",
      "\n",
      "    accuracy                           0.99   1930732\n",
      "   macro avg       0.49      0.50      0.50   1930732\n",
      "weighted avg       0.97      0.99      0.98   1930732\n",
      "\n"
     ]
    }
   ],
   "source": [
    "from sklearn.linear_model import LogisticRegression\n",
    "from sklearn.metrics import classification_report\n",
    "\n",
    "# fit the LG model -- random_state is used to shuffle the data; max_iter is max # of iterations for solver to converge (default is 100)\n",
    "model_lr = LogisticRegression(random_state=1, max_iter=1000,solver = 'saga').fit(X_train, y_train)\n",
    "# print the report\n",
    "print(f\"Performance on TEST\\n*******************\\n{classification_report(y_test, model_lr.predict(X_test))}\")\n",
    "print(f\"Performance on TRAIN\\n********************\\n{classification_report(y_train, model_lr.predict(X_train))}\")"
   ]
  },
  {
   "cell_type": "code",
   "execution_count": 30,
   "id": "03f320a7-4bf1-45f8-842e-f27227df278c",
   "metadata": {},
   "outputs": [
    {
     "data": {
      "image/png": "[encoded data removed]",
      "text/plain": [
       "<Figure size 640x480 with 2 Axes>"
      ]
     },
     "metadata": {},
     "output_type": "display_data"
    }
   ],
   "source": [
    "cm_display = ConfusionMatrixDisplay.from_estimator(model_lr, X_test, y_test,cmap=plt.cm.Blues,normalize=None)"
   ]
  },
  {
   "cell_type": "markdown",
   "id": "7f7e3964-5273-458b-8b93-d26c6a15222f",
   "metadata": {},
   "source": [
    "## KNN"
   ]
  },
  {
   "cell_type": "code",
   "execution_count": 17,
   "id": "4743936d-c6fd-4f38-9aa4-ec54d122373f",
   "metadata": {},
   "outputs": [
    {
     "data": {
      "text/html": [
       "<style>#sk-container-id-1 {\n",
       "  /* Definition of color scheme common for light and dark mode */\n",
       "  --sklearn-color-text: black;\n",
       "  --sklearn-color-line: gray;\n",
       "  /* Definition of color scheme for unfitted estimators */\n",
       "  --sklearn-color-unfitted-level-0: #fff5e6;\n",
       "  --sklearn-color-unfitted-level-1: #f6e4d2;\n",
       "  --sklearn-color-unfitted-level-2: #ffe0b3;\n",
       "  --sklearn-color-unfitted-level-3: chocolate;\n",
       "  /* Definition of color scheme for fitted estimators */\n",
       "  --sklearn-color-fitted-level-0: #f0f8ff;\n",
       "  --sklearn-color-fitted-level-1: #d4ebff;\n",
       "  --sklearn-color-fitted-level-2: #b3dbfd;\n",
       "  --sklearn-color-fitted-level-3: cornflowerblue;\n",
       "\n",
       "  /* Specific color for light theme */\n",
       "  --sklearn-color-text-on-default-background: var(--sg-text-color, var(--theme-code-foreground, var(--jp-content-font-color1, black)));\n",
       "  --sklearn-color-background: var(--sg-background-color, var(--theme-background, var(--jp-layout-color0, white)));\n",
       "  --sklearn-color-border-box: var(--sg-text-color, var(--theme-code-foreground, var(--jp-content-font-color1, black)));\n",
       "  --sklearn-color-icon: #696969;\n",
       "\n",
       "  @media (prefers-color-scheme: dark) {\n",
       "    /* Redefinition of color scheme for dark theme */\n",
       "    --sklearn-color-text-on-default-background: var(--sg-text-color, var(--theme-code-foreground, var(--jp-content-font-color1, white)));\n",
       "    --sklearn-color-background: var(--sg-background-color, var(--theme-background, var(--jp-layout-color0, #111)));\n",
       "    --sklearn-color-border-box: var(--sg-text-color, var(--theme-code-foreground, var(--jp-content-font-color1, white)));\n",
       "    --sklearn-color-icon: #878787;\n",
       "  }\n",
       "}\n",
       "\n",
       "#sk-container-id-1 {\n",
       "  color: var(--sklearn-color-text);\n",
       "}\n",
       "\n",
       "#sk-container-id-1 pre {\n",
       "  padding: 0;\n",
       "}\n",
       "\n",
       "#sk-container-id-1 input.sk-hidden--visually {\n",
       "  border: 0;\n",
       "  clip: rect(1px 1px 1px 1px);\n",
       "  clip: rect(1px, 1px, 1px, 1px);\n",
       "  height: 1px;\n",
       "  margin: -1px;\n",
       "  overflow: hidden;\n",
       "  padding: 0;\n",
       "  position: absolute;\n",
       "  width: 1px;\n",
       "}\n",
       "\n",
       "#sk-container-id-1 div.sk-dashed-wrapped {\n",
       "  border: 1px dashed var(--sklearn-color-line);\n",
       "  margin: 0 0.4em 0.5em 0.4em;\n",
       "  box-sizing: border-box;\n",
       "  padding-bottom: 0.4em;\n",
       "  background-color: var(--sklearn-color-background);\n",
       "}\n",
       "\n",
       "#sk-container-id-1 div.sk-container {\n",
       "  /* jupyter's `normalize.less` sets `[hidden] { display: none; }`\n",
       "     but bootstrap.min.css set `[hidden] { display: none !important; }`\n",
       "     so we also need the `!important` here to be able to override the\n",
       "     default hidden behavior on the sphinx rendered scikit-learn.org.\n",
       "     See: https://github.com/scikit-learn/scikit-learn/issues/21755 */\n",
       "  display: inline-block !important;\n",
       "  position: relative;\n",
       "}\n",
       "\n",
       "#sk-container-id-1 div.sk-text-repr-fallback {\n",
       "  display: none;\n",
       "}\n",
       "\n",
       "div.sk-parallel-item,\n",
       "div.sk-serial,\n",
       "div.sk-item {\n",
       "  /* draw centered vertical line to link estimators */\n",
       "  background-image: linear-gradient(var(--sklearn-color-text-on-default-background), var(--sklearn-color-text-on-default-background));\n",
       "  background-size: 2px 100%;\n",
       "  background-repeat: no-repeat;\n",
       "  background-position: center center;\n",
       "}\n",
       "\n",
       "/* Parallel-specific style estimator block */\n",
       "\n",
       "#sk-container-id-1 div.sk-parallel-item::after {\n",
       "  content: \"\";\n",
       "  width: 100%;\n",
       "  border-bottom: 2px solid var(--sklearn-color-text-on-default-background);\n",
       "  flex-grow: 1;\n",
       "}\n",
       "\n",
       "#sk-container-id-1 div.sk-parallel {\n",
       "  display: flex;\n",
       "  align-items: stretch;\n",
       "  justify-content: center;\n",
       "  background-color: var(--sklearn-color-background);\n",
       "  position: relative;\n",
       "}\n",
       "\n",
       "#sk-container-id-1 div.sk-parallel-item {\n",
       "  display: flex;\n",
       "  flex-direction: column;\n",
       "}\n",
       "\n",
       "#sk-container-id-1 div.sk-parallel-item:first-child::after {\n",
       "  align-self: flex-end;\n",
       "  width: 50%;\n",
       "}\n",
       "\n",
       "#sk-container-id-1 div.sk-parallel-item:last-child::after {\n",
       "  align-self: flex-start;\n",
       "  width: 50%;\n",
       "}\n",
       "\n",
       "#sk-container-id-1 div.sk-parallel-item:only-child::after {\n",
       "  width: 0;\n",
       "}\n",
       "\n",
       "/* Serial-specific style estimator block */\n",
       "\n",
       "#sk-container-id-1 div.sk-serial {\n",
       "  display: flex;\n",
       "  flex-direction: column;\n",
       "  align-items: center;\n",
       "  background-color: var(--sklearn-color-background);\n",
       "  padding-right: 1em;\n",
       "  padding-left: 1em;\n",
       "}\n",
       "\n",
       "\n",
       "/* Toggleable style: style used for estimator/Pipeline/ColumnTransformer box that is\n",
       "clickable and can be expanded/collapsed.\n",
       "- Pipeline and ColumnTransformer use this feature and define the default style\n",
       "- Estimators will overwrite some part of the style using the `sk-estimator` class\n",
       "*/\n",
       "\n",
       "/* Pipeline and ColumnTransformer style (default) */\n",
       "\n",
       "#sk-container-id-1 div.sk-toggleable {\n",
       "  /* Default theme specific background. It is overwritten whether we have a\n",
       "  specific estimator or a Pipeline/ColumnTransformer */\n",
       "  background-color: var(--sklearn-color-background);\n",
       "}\n",
       "\n",
       "/* Toggleable label */\n",
       "#sk-container-id-1 label.sk-toggleable__label {\n",
       "  cursor: pointer;\n",
       "  display: block;\n",
       "  width: 100%;\n",
       "  margin-bottom: 0;\n",
       "  padding: 0.5em;\n",
       "  box-sizing: border-box;\n",
       "  text-align: center;\n",
       "}\n",
       "\n",
       "#sk-container-id-1 label.sk-toggleable__label-arrow:before {\n",
       "  /* Arrow on the left of the label */\n",
       "  content: \"▸\";\n",
       "  float: left;\n",
       "  margin-right: 0.25em;\n",
       "  color: var(--sklearn-color-icon);\n",
       "}\n",
       "\n",
       "#sk-container-id-1 label.sk-toggleable__label-arrow:hover:before {\n",
       "  color: var(--sklearn-color-text);\n",
       "}\n",
       "\n",
       "/* Toggleable content - dropdown */\n",
       "\n",
       "#sk-container-id-1 div.sk-toggleable__content {\n",
       "  max-height: 0;\n",
       "  max-width: 0;\n",
       "  overflow: hidden;\n",
       "  text-align: left;\n",
       "  /* unfitted */\n",
       "  background-color: var(--sklearn-color-unfitted-level-0);\n",
       "}\n",
       "\n",
       "#sk-container-id-1 div.sk-toggleable__content.fitted {\n",
       "  /* fitted */\n",
       "  background-color: var(--sklearn-color-fitted-level-0);\n",
       "}\n",
       "\n",
       "#sk-container-id-1 div.sk-toggleable__content pre {\n",
       "  margin: 0.2em;\n",
       "  border-radius: 0.25em;\n",
       "  color: var(--sklearn-color-text);\n",
       "  /* unfitted */\n",
       "  background-color: var(--sklearn-color-unfitted-level-0);\n",
       "}\n",
       "\n",
       "#sk-container-id-1 div.sk-toggleable__content.fitted pre {\n",
       "  /* unfitted */\n",
       "  background-color: var(--sklearn-color-fitted-level-0);\n",
       "}\n",
       "\n",
       "#sk-container-id-1 input.sk-toggleable__control:checked~div.sk-toggleable__content {\n",
       "  /* Expand drop-down */\n",
       "  max-height: 200px;\n",
       "  max-width: 100%;\n",
       "  overflow: auto;\n",
       "}\n",
       "\n",
       "#sk-container-id-1 input.sk-toggleable__control:checked~label.sk-toggleable__label-arrow:before {\n",
       "  content: \"▾\";\n",
       "}\n",
       "\n",
       "/* Pipeline/ColumnTransformer-specific style */\n",
       "\n",
       "#sk-container-id-1 div.sk-label input.sk-toggleable__control:checked~label.sk-toggleable__label {\n",
       "  color: var(--sklearn-color-text);\n",
       "  background-color: var(--sklearn-color-unfitted-level-2);\n",
       "}\n",
       "\n",
       "#sk-container-id-1 div.sk-label.fitted input.sk-toggleable__control:checked~label.sk-toggleable__label {\n",
       "  background-color: var(--sklearn-color-fitted-level-2);\n",
       "}\n",
       "\n",
       "/* Estimator-specific style */\n",
       "\n",
       "/* Colorize estimator box */\n",
       "#sk-container-id-1 div.sk-estimator input.sk-toggleable__control:checked~label.sk-toggleable__label {\n",
       "  /* unfitted */\n",
       "  background-color: var(--sklearn-color-unfitted-level-2);\n",
       "}\n",
       "\n",
       "#sk-container-id-1 div.sk-estimator.fitted input.sk-toggleable__control:checked~label.sk-toggleable__label {\n",
       "  /* fitted */\n",
       "  background-color: var(--sklearn-color-fitted-level-2);\n",
       "}\n",
       "\n",
       "#sk-container-id-1 div.sk-label label.sk-toggleable__label,\n",
       "#sk-container-id-1 div.sk-label label {\n",
       "  /* The background is the default theme color */\n",
       "  color: var(--sklearn-color-text-on-default-background);\n",
       "}\n",
       "\n",
       "/* On hover, darken the color of the background */\n",
       "#sk-container-id-1 div.sk-label:hover label.sk-toggleable__label {\n",
       "  color: var(--sklearn-color-text);\n",
       "  background-color: var(--sklearn-color-unfitted-level-2);\n",
       "}\n",
       "\n",
       "/* Label box, darken color on hover, fitted */\n",
       "#sk-container-id-1 div.sk-label.fitted:hover label.sk-toggleable__label.fitted {\n",
       "  color: var(--sklearn-color-text);\n",
       "  background-color: var(--sklearn-color-fitted-level-2);\n",
       "}\n",
       "\n",
       "/* Estimator label */\n",
       "\n",
       "#sk-container-id-1 div.sk-label label {\n",
       "  font-family: monospace;\n",
       "  font-weight: bold;\n",
       "  display: inline-block;\n",
       "  line-height: 1.2em;\n",
       "}\n",
       "\n",
       "#sk-container-id-1 div.sk-label-container {\n",
       "  text-align: center;\n",
       "}\n",
       "\n",
       "/* Estimator-specific */\n",
       "#sk-container-id-1 div.sk-estimator {\n",
       "  font-family: monospace;\n",
       "  border: 1px dotted var(--sklearn-color-border-box);\n",
       "  border-radius: 0.25em;\n",
       "  box-sizing: border-box;\n",
       "  margin-bottom: 0.5em;\n",
       "  /* unfitted */\n",
       "  background-color: var(--sklearn-color-unfitted-level-0);\n",
       "}\n",
       "\n",
       "#sk-container-id-1 div.sk-estimator.fitted {\n",
       "  /* fitted */\n",
       "  background-color: var(--sklearn-color-fitted-level-0);\n",
       "}\n",
       "\n",
       "/* on hover */\n",
       "#sk-container-id-1 div.sk-estimator:hover {\n",
       "  /* unfitted */\n",
       "  background-color: var(--sklearn-color-unfitted-level-2);\n",
       "}\n",
       "\n",
       "#sk-container-id-1 div.sk-estimator.fitted:hover {\n",
       "  /* fitted */\n",
       "  background-color: var(--sklearn-color-fitted-level-2);\n",
       "}\n",
       "\n",
       "/* Specification for estimator info (e.g. \"i\" and \"?\") */\n",
       "\n",
       "/* Common style for \"i\" and \"?\" */\n",
       "\n",
       ".sk-estimator-doc-link,\n",
       "a:link.sk-estimator-doc-link,\n",
       "a:visited.sk-estimator-doc-link {\n",
       "  float: right;\n",
       "  font-size: smaller;\n",
       "  line-height: 1em;\n",
       "  font-family: monospace;\n",
       "  background-color: var(--sklearn-color-background);\n",
       "  border-radius: 1em;\n",
       "  height: 1em;\n",
       "  width: 1em;\n",
       "  text-decoration: none !important;\n",
       "  margin-left: 1ex;\n",
       "  /* unfitted */\n",
       "  border: var(--sklearn-color-unfitted-level-1) 1pt solid;\n",
       "  color: var(--sklearn-color-unfitted-level-1);\n",
       "}\n",
       "\n",
       ".sk-estimator-doc-link.fitted,\n",
       "a:link.sk-estimator-doc-link.fitted,\n",
       "a:visited.sk-estimator-doc-link.fitted {\n",
       "  /* fitted */\n",
       "  border: var(--sklearn-color-fitted-level-1) 1pt solid;\n",
       "  color: var(--sklearn-color-fitted-level-1);\n",
       "}\n",
       "\n",
       "/* On hover */\n",
       "div.sk-estimator:hover .sk-estimator-doc-link:hover,\n",
       ".sk-estimator-doc-link:hover,\n",
       "div.sk-label-container:hover .sk-estimator-doc-link:hover,\n",
       ".sk-estimator-doc-link:hover {\n",
       "  /* unfitted */\n",
       "  background-color: var(--sklearn-color-unfitted-level-3);\n",
       "  color: var(--sklearn-color-background);\n",
       "  text-decoration: none;\n",
       "}\n",
       "\n",
       "div.sk-estimator.fitted:hover .sk-estimator-doc-link.fitted:hover,\n",
       ".sk-estimator-doc-link.fitted:hover,\n",
       "div.sk-label-container:hover .sk-estimator-doc-link.fitted:hover,\n",
       ".sk-estimator-doc-link.fitted:hover {\n",
       "  /* fitted */\n",
       "  background-color: var(--sklearn-color-fitted-level-3);\n",
       "  color: var(--sklearn-color-background);\n",
       "  text-decoration: none;\n",
       "}\n",
       "\n",
       "/* Span, style for the box shown on hovering the info icon */\n",
       ".sk-estimator-doc-link span {\n",
       "  display: none;\n",
       "  z-index: 9999;\n",
       "  position: relative;\n",
       "  font-weight: normal;\n",
       "  right: .2ex;\n",
       "  padding: .5ex;\n",
       "  margin: .5ex;\n",
       "  width: min-content;\n",
       "  min-width: 20ex;\n",
       "  max-width: 50ex;\n",
       "  color: var(--sklearn-color-text);\n",
       "  box-shadow: 2pt 2pt 4pt #999;\n",
       "  /* unfitted */\n",
       "  background: var(--sklearn-color-unfitted-level-0);\n",
       "  border: .5pt solid var(--sklearn-color-unfitted-level-3);\n",
       "}\n",
       "\n",
       ".sk-estimator-doc-link.fitted span {\n",
       "  /* fitted */\n",
       "  background: var(--sklearn-color-fitted-level-0);\n",
       "  border: var(--sklearn-color-fitted-level-3);\n",
       "}\n",
       "\n",
       ".sk-estimator-doc-link:hover span {\n",
       "  display: block;\n",
       "}\n",
       "\n",
       "/* \"?\"-specific style due to the `<a>` HTML tag */\n",
       "\n",
       "#sk-container-id-1 a.estimator_doc_link {\n",
       "  float: right;\n",
       "  font-size: 1rem;\n",
       "  line-height: 1em;\n",
       "  font-family: monospace;\n",
       "  background-color: var(--sklearn-color-background);\n",
       "  border-radius: 1rem;\n",
       "  height: 1rem;\n",
       "  width: 1rem;\n",
       "  text-decoration: none;\n",
       "  /* unfitted */\n",
       "  color: var(--sklearn-color-unfitted-level-1);\n",
       "  border: var(--sklearn-color-unfitted-level-1) 1pt solid;\n",
       "}\n",
       "\n",
       "#sk-container-id-1 a.estimator_doc_link.fitted {\n",
       "  /* fitted */\n",
       "  border: var(--sklearn-color-fitted-level-1) 1pt solid;\n",
       "  color: var(--sklearn-color-fitted-level-1);\n",
       "}\n",
       "\n",
       "/* On hover */\n",
       "#sk-container-id-1 a.estimator_doc_link:hover {\n",
       "  /* unfitted */\n",
       "  background-color: var(--sklearn-color-unfitted-level-3);\n",
       "  color: var(--sklearn-color-background);\n",
       "  text-decoration: none;\n",
       "}\n",
       "\n",
       "#sk-container-id-1 a.estimator_doc_link.fitted:hover {\n",
       "  /* fitted */\n",
       "  background-color: var(--sklearn-color-fitted-level-3);\n",
       "}\n",
       "</style><div id=\"sk-container-id-1\" class=\"sk-top-container\"><div class=\"sk-text-repr-fallback\"><pre>KNeighborsClassifier(n_neighbors=3)</pre><b>In a Jupyter environment, please rerun this cell to show the HTML representation or trust the notebook. <br />On GitHub, the HTML representation is unable to render, please try loading this page with nbviewer.org.</b></div><div class=\"sk-container\" hidden><div class=\"sk-item\"><div class=\"sk-estimator fitted sk-toggleable\"><input class=\"sk-toggleable__control sk-hidden--visually\" id=\"sk-estimator-id-1\" type=\"checkbox\" checked><label for=\"sk-estimator-id-1\" class=\"sk-toggleable__label fitted sk-toggleable__label-arrow fitted\">&nbsp;&nbsp;KNeighborsClassifier<a class=\"sk-estimator-doc-link fitted\" rel=\"noreferrer\" target=\"_blank\" href=\"https://scikit-learn.org/1.4/modules/generated/sklearn.neighbors.KNeighborsClassifier.html\">?<span>Documentation for KNeighborsClassifier</span></a><span class=\"sk-estimator-doc-link fitted\">i<span>Fitted</span></span></label><div class=\"sk-toggleable__content fitted\"><pre>KNeighborsClassifier(n_neighbors=3)</pre></div> </div></div></div></div>"
      ],
      "text/plain": [
       "KNeighborsClassifier(n_neighbors=3)"
      ]
     },
     "execution_count": 17,
     "metadata": {},
     "output_type": "execute_result"
    }
   ],
   "source": [
    "from sklearn.neighbors import KNeighborsClassifier\n",
    "\n",
    "# instantiate the model\n",
    "knn = KNeighborsClassifier(n_neighbors=3)\n",
    "\n",
    "# fit the model to the training set\n",
    "knn.fit(X_train, y_train)"
   ]
  },
  {
   "cell_type": "code",
   "execution_count": 31,
   "id": "d1b4425e-4a62-4f4d-912b-787d719c9721",
   "metadata": {},
   "outputs": [
    {
     "name": "stdout",
     "output_type": "stream",
     "text": [
      "Accuracy of knn on test data is : 0.99\n",
      "Accuracy of knn on train data is : 0.99\n"
     ]
    }
   ],
   "source": [
    "### Check the accuracy on the test data\n",
    "from sklearn.metrics import accuracy_score, recall_score, precision_score, f1_score\n",
    "\n",
    "accuracy_test=accuracy_score(y_test, knn.predict(X_test))\n",
    "print('Accuracy of knn on test data is : {:.2}'.format(accuracy_test))\n",
    "\n",
    "# Check accuracy on the training data\n",
    "accuracy_train=accuracy_score(y_train, knn.predict(X_train))\n",
    "print('Accuracy of knn on train data is : {:.2}'.format(accuracy_train))"
   ]
  },
  {
   "cell_type": "code",
   "execution_count": 20,
   "id": "523fac52-70d6-411a-a364-120bd7072f56",
   "metadata": {},
   "outputs": [
    {
     "name": "stdout",
     "output_type": "stream",
     "text": [
      "Recall: 0.9972378734564047\n",
      "Precision: 0.9880944293478261\n",
      "f1_score: 0.9926450963449724\n"
     ]
    }
   ],
   "source": [
    "y_pred = knn.predict(X_test)\n",
    "print(f\"Recall: {recall_score(y_test, y_pred)}\")\n",
    "print(f\"Precision: {precision_score(y_test, y_pred)}\")\n",
    "print(f\"f1_score: {f1_score(y_test, y_pred)}\")"
   ]
  },
  {
   "cell_type": "code",
   "execution_count": 18,
   "id": "9bd3a39b-00e4-4632-a068-e16265409126",
   "metadata": {},
   "outputs": [
    {
     "data": {
      "image/png": "[encoded data removed]",
      "text/plain": [
       "<Figure size 640x480 with 2 Axes>"
      ]
     },
     "metadata": {},
     "output_type": "display_data"
    }
   ],
   "source": [
    "cm_display = ConfusionMatrixDisplay.from_estimator(knn, X_test, y_test,cmap=plt.cm.Blues,normalize=None)"
   ]
  },
  {
   "cell_type": "markdown",
   "id": "257a579e-2de2-4659-bfc4-1b8baa443cdd",
   "metadata": {},
   "source": [
    "## Random Forest (current issues)"
   ]
  },
  {
   "cell_type": "code",
   "execution_count": 24,
   "id": "c921d116-8050-4c90-8103-1a686297c158",
   "metadata": {
    "scrolled": true
   },
   "outputs": [
    {
     "data": {
      "text/plain": [
       "'from sklearn.ensemble import RandomForestClassifier\\nfrom sklearn.model_selection import GridSearchCV\\n\\nmodel = RandomForestClassifier()\\nparam_grid = {\\n   \"n_estimators\": np.arange(start=10, stop=100, step=2),\\n   \"max_depth\": np.arange(start=2, stop=20),\\n   \"min_samples_leaf\": np.arange(start=1, stop=5),\\n   \"class_weight\": [{0: 0.1, 1: 0.9}, {0: 0.2, 1: 0.8}, {0: 0.3, 1: 0.7}],\\n}\\n\\ngscv = GridSearchCV(model, param_grid, cv=5, n_jobs=8, scoring=\"recall\", )\\ngscv.fit(X_train, y_train)\\ngscv.best_params_'"
      ]
     },
     "execution_count": 24,
     "metadata": {},
     "output_type": "execute_result"
    }
   ],
   "source": [
    "\"\"\"from sklearn.ensemble import RandomForestClassifier\n",
    "from sklearn.model_selection import GridSearchCV\n",
    "\n",
    "model = RandomForestClassifier()\n",
    "param_grid = {\n",
    "   \"n_estimators\": np.arange(start=10, stop=100, step=2),\n",
    "   \"max_depth\": np.arange(start=2, stop=20),\n",
    "   \"min_samples_leaf\": np.arange(start=1, stop=5),\n",
    "   \"class_weight\": [{0: 0.1, 1: 0.9}, {0: 0.2, 1: 0.8}, {0: 0.3, 1: 0.7}],\n",
    "}\n",
    "\n",
    "gscv = GridSearchCV(model, param_grid, cv=5, n_jobs=8, scoring=\"recall\", )\n",
    "gscv.fit(X_train, y_train)\n",
    "gscv.best_params_\"\"\""
   ]
  },
  {
   "cell_type": "code",
   "execution_count": 25,
   "id": "d00d45c1-302a-46f8-9b87-0da30503ee2d",
   "metadata": {},
   "outputs": [],
   "source": [
    "#from sklearn.metrics import classification_report\n",
    "#print(f\"Performance on TEST\\n*******************\\n{classification_report(y_test, model.predict(X_test))}\")\n",
    "#print(f\"Performance on TRAIN\\n********************\\n{classification_report(y_train, model.predict(X_train))}\")"
   ]
  },
  {
   "cell_type": "markdown",
   "id": "574a326f-c990-47dd-a007-7dbdd337c742",
   "metadata": {},
   "source": [
    "## Naive Bayes"
   ]
  },
  {
   "cell_type": "code",
   "execution_count": 19,
   "id": "43c8fe35-b754-41c0-bf0b-e4bb2b60506e",
   "metadata": {},
   "outputs": [],
   "source": [
    "from sklearn.naive_bayes import GaussianNB\n",
    "gnb = GaussianNB()\n",
    "y_pred = gnb.fit(X_train, y_train).predict(X_test)"
   ]
  },
  {
   "cell_type": "code",
   "execution_count": 20,
   "id": "fadf1bed-ff7d-4761-b5e7-1268abce710b",
   "metadata": {},
   "outputs": [
    {
     "name": "stdout",
     "output_type": "stream",
     "text": [
      "              precision    recall  f1-score   support\n",
      "\n",
      "       False       0.02      0.88      0.04     10695\n",
      "        True       1.00      0.45      0.62    816762\n",
      "\n",
      "    accuracy                           0.45    827457\n",
      "   macro avg       0.51      0.66      0.33    827457\n",
      "weighted avg       0.98      0.45      0.61    827457\n",
      "\n"
     ]
    }
   ],
   "source": [
    "from sklearn.metrics import classification_report\n",
    "print(classification_report(y_test, y_pred))"
   ]
  },
  {
   "cell_type": "code",
   "execution_count": 21,
   "id": "df781c74-d702-4b28-9910-bda39f6b6d12",
   "metadata": {},
   "outputs": [
    {
     "data": {
      "image/png": "[encoded data removed]",
      "text/plain": [
       "<Figure size 640x480 with 2 Axes>"
      ]
     },
     "metadata": {},
     "output_type": "display_data"
    }
   ],
   "source": [
    "cm_display = ConfusionMatrixDisplay.from_estimator(gnb, X_test, y_test,cmap=plt.cm.Blues,normalize=None)"
   ]
  },
  {
   "cell_type": "markdown",
   "id": "f27ee95b-67c1-4e0d-b67e-976359d2cdba",
   "metadata": {},
   "source": [
    "# Advanced Classical Algorithims"
   ]
  },
  {
   "cell_type": "markdown",
   "id": "096ff9fc-de77-4f1e-ae74-65076ac37f03",
   "metadata": {},
   "source": [
    "## Support Vector Machine (SVC)"
   ]
  },
  {
   "cell_type": "code",
   "execution_count": 22,
   "id": "98d5c357-a295-4d59-8c5b-07038127e800",
   "metadata": {},
   "outputs": [],
   "source": [
    "from sklearn.svm import LinearSVC, SVC\n",
    "model_SVC = SVC()"
   ]
  },
  {
   "cell_type": "code",
   "execution_count": 23,
   "id": "56383fa3-5a34-4115-b6d3-22a20f5961ab",
   "metadata": {},
   "outputs": [
    {
     "name": "stderr",
     "output_type": "stream",
     "text": [
      "/usr/local/lib/python3.11/site-packages/sklearn/metrics/_classification.py:1509: UndefinedMetricWarning: Precision is ill-defined and being set to 0.0 in labels with no predicted samples. Use `zero_division` parameter to control this behavior.\n",
      "  _warn_prf(average, modifier, f\"{metric.capitalize()} is\", len(result))\n",
      "/usr/local/lib/python3.11/site-packages/sklearn/metrics/_classification.py:1509: UndefinedMetricWarning: Precision is ill-defined and being set to 0.0 in labels with no predicted samples. Use `zero_division` parameter to control this behavior.\n",
      "  _warn_prf(average, modifier, f\"{metric.capitalize()} is\", len(result))\n"
     ]
    },
    {
     "name": "stdout",
     "output_type": "stream",
     "text": [
      "              precision    recall  f1-score   support\n",
      "\n",
      "       False       0.00      0.00      0.00     10695\n",
      "        True       0.99      1.00      0.99    816762\n",
      "\n",
      "    accuracy                           0.99    827457\n",
      "   macro avg       0.49      0.50      0.50    827457\n",
      "weighted avg       0.97      0.99      0.98    827457\n",
      "\n"
     ]
    },
    {
     "name": "stderr",
     "output_type": "stream",
     "text": [
      "/usr/local/lib/python3.11/site-packages/sklearn/metrics/_classification.py:1509: UndefinedMetricWarning: Precision is ill-defined and being set to 0.0 in labels with no predicted samples. Use `zero_division` parameter to control this behavior.\n",
      "  _warn_prf(average, modifier, f\"{metric.capitalize()} is\", len(result))\n"
     ]
    }
   ],
   "source": [
    "y_pred = model_SVC.fit(X_train,y_train).predict(X_test)\n",
    "print(classification_report(y_test,y_pred))"
   ]
  },
  {
   "cell_type": "code",
   "execution_count": 24,
   "id": "48cc1459-6e79-4b5f-8c61-93c8781edcd6",
   "metadata": {},
   "outputs": [
    {
     "data": {
      "image/png": "[encoded data removed]",
      "text/plain": [
       "<Figure size 640x480 with 2 Axes>"
      ]
     },
     "metadata": {},
     "output_type": "display_data"
    }
   ],
   "source": [
    "cm_display = ConfusionMatrixDisplay.from_estimator(model_SVC, X_test, y_test,cmap=plt.cm.Blues,normalize=None)"
   ]
  },
  {
   "cell_type": "markdown",
   "id": "6e916627-42a2-42ff-861e-8c2fc2d8d023",
   "metadata": {},
   "source": [
    "## Linear Support Vector Machine (LinearSVC)"
   ]
  },
  {
   "cell_type": "code",
   "execution_count": 25,
   "id": "9539db14-e846-46b5-8cb2-c85ebd646903",
   "metadata": {},
   "outputs": [],
   "source": [
    "model_LinearSVC = LinearSVC()"
   ]
  },
  {
   "cell_type": "code",
   "execution_count": 26,
   "id": "566d3260-b463-4af3-8b50-38658cffcb41",
   "metadata": {},
   "outputs": [
    {
     "name": "stderr",
     "output_type": "stream",
     "text": [
      "/usr/local/lib/python3.11/site-packages/sklearn/svm/_classes.py:31: FutureWarning: The default value of `dual` will change from `True` to `'auto'` in 1.5. Set the value of `dual` explicitly to suppress the warning.\n",
      "  warnings.warn(\n",
      "/usr/local/lib/python3.11/site-packages/sklearn/svm/_base.py:1237: ConvergenceWarning: Liblinear failed to converge, increase the number of iterations.\n",
      "  warnings.warn(\n"
     ]
    },
    {
     "name": "stdout",
     "output_type": "stream",
     "text": [
      "              precision    recall  f1-score   support\n",
      "\n",
      "       False       0.01      0.03      0.02     10695\n",
      "        True       0.99      0.96      0.97    816762\n",
      "\n",
      "    accuracy                           0.95    827457\n",
      "   macro avg       0.50      0.50      0.50    827457\n",
      "weighted avg       0.97      0.95      0.96    827457\n",
      "\n"
     ]
    }
   ],
   "source": [
    "y_pred = model_LinearSVC.fit(X_train,y_train).predict(X_test)\n",
    "print(classification_report(y_test,y_pred))"
   ]
  },
  {
   "cell_type": "code",
   "execution_count": 27,
   "id": "7806b00f-2fc3-41f4-874f-fb902b04c0ef",
   "metadata": {},
   "outputs": [
    {
     "data": {
      "image/png": "[encoded data removed]",
      "text/plain": [
       "<Figure size 640x480 with 2 Axes>"
      ]
     },
     "metadata": {},
     "output_type": "display_data"
    }
   ],
   "source": [
    "cm_display = ConfusionMatrixDisplay.from_estimator(model_SVC, X_test, y_test,cmap=plt.cm.Blues,normalize=None)"
   ]
  },
  {
   "cell_type": "markdown",
   "id": "1705638a-df81-40dd-991f-b1e53a940996",
   "metadata": {},
   "source": [
    "## TabTranformer (Transformer Model Capable of Processing Tabular Data)"
   ]
  },
  {
   "cell_type": "code",
   "execution_count": null,
   "id": "77c64133-b388-4887-8edd-d19aa6573bec",
   "metadata": {},
   "outputs": [],
   "source": []
  }
 ],
 "metadata": {
  "kernelspec": {
   "display_name": "Python 3 (ipykernel)",
   "language": "python",
   "name": "python3"
  },
  "language_info": {
   "codemirror_mode": {
    "name": "ipython",
    "version": 3
   },
   "file_extension": ".py",
   "mimetype": "text/x-python",
   "name": "python",
   "nbconvert_exporter": "python",
   "pygments_lexer": "ipython3",
   "version": "3.11.1"
  }
 },
 "nbformat": 4,
 "nbformat_minor": 5
}
